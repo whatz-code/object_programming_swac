{
 "cells": [
  {
   "cell_type": "code",
   "execution_count": 1,
   "metadata": {},
   "outputs": [
    {
     "name": "stdout",
     "output_type": "stream",
     "text": [
      "Requirement already satisfied: argon2-cffi==20.1.0 in /home/raphael/Documents/Stage-application/Synthese-objet/Python/VirtualEnvironnement/lib/python3.8/site-packages (from -r requirements.txt (line 1)) (20.1.0)\n",
      "Requirement already satisfied: async-generator==1.10 in /home/raphael/Documents/Stage-application/Synthese-objet/Python/VirtualEnvironnement/lib/python3.8/site-packages (from -r requirements.txt (line 2)) (1.10)\n",
      "Requirement already satisfied: attrs==20.3.0 in /home/raphael/Documents/Stage-application/Synthese-objet/Python/VirtualEnvironnement/lib/python3.8/site-packages (from -r requirements.txt (line 3)) (20.3.0)\n",
      "Requirement already satisfied: autopep8==1.5.4 in /home/raphael/Documents/Stage-application/Synthese-objet/Python/VirtualEnvironnement/lib/python3.8/site-packages (from -r requirements.txt (line 4)) (1.5.4)\n",
      "Requirement already satisfied: backcall==0.2.0 in /home/raphael/Documents/Stage-application/Synthese-objet/Python/VirtualEnvironnement/lib/python3.8/site-packages (from -r requirements.txt (line 5)) (0.2.0)\n",
      "Requirement already satisfied: bleach==3.2.1 in /home/raphael/Documents/Stage-application/Synthese-objet/Python/VirtualEnvironnement/lib/python3.8/site-packages (from -r requirements.txt (line 6)) (3.2.1)\n",
      "Requirement already satisfied: certifi==2020.11.8 in /home/raphael/Documents/Stage-application/Synthese-objet/Python/VirtualEnvironnement/lib/python3.8/site-packages (from -r requirements.txt (line 7)) (2020.11.8)\n",
      "Requirement already satisfied: cffi==1.14.4 in /home/raphael/Documents/Stage-application/Synthese-objet/Python/VirtualEnvironnement/lib/python3.8/site-packages (from -r requirements.txt (line 8)) (1.14.4)\n",
      "Requirement already satisfied: chardet==3.0.4 in /home/raphael/Documents/Stage-application/Synthese-objet/Python/VirtualEnvironnement/lib/python3.8/site-packages (from -r requirements.txt (line 9)) (3.0.4)\n",
      "Requirement already satisfied: cycler==0.10.0 in /home/raphael/Documents/Stage-application/Synthese-objet/Python/VirtualEnvironnement/lib/python3.8/site-packages (from -r requirements.txt (line 10)) (0.10.0)\n",
      "Requirement already satisfied: decorator==4.4.2 in /home/raphael/Documents/Stage-application/Synthese-objet/Python/VirtualEnvironnement/lib/python3.8/site-packages (from -r requirements.txt (line 11)) (4.4.2)\n",
      "Requirement already satisfied: defusedxml==0.6.0 in /home/raphael/Documents/Stage-application/Synthese-objet/Python/VirtualEnvironnement/lib/python3.8/site-packages (from -r requirements.txt (line 12)) (0.6.0)\n",
      "Requirement already satisfied: entrypoints==0.3 in /home/raphael/Documents/Stage-application/Synthese-objet/Python/VirtualEnvironnement/lib/python3.8/site-packages (from -r requirements.txt (line 13)) (0.3)\n",
      "Requirement already satisfied: idna==2.10 in /home/raphael/Documents/Stage-application/Synthese-objet/Python/VirtualEnvironnement/lib/python3.8/site-packages (from -r requirements.txt (line 14)) (2.10)\n",
      "Requirement already satisfied: ipykernel==5.3.4 in /home/raphael/Documents/Stage-application/Synthese-objet/Python/VirtualEnvironnement/lib/python3.8/site-packages (from -r requirements.txt (line 15)) (5.3.4)\n",
      "Requirement already satisfied: ipympl==0.5.8 in /home/raphael/Documents/Stage-application/Synthese-objet/Python/VirtualEnvironnement/lib/python3.8/site-packages (from -r requirements.txt (line 16)) (0.5.8)\n",
      "Requirement already satisfied: ipython==7.19.0 in /home/raphael/Documents/Stage-application/Synthese-objet/Python/VirtualEnvironnement/lib/python3.8/site-packages (from -r requirements.txt (line 17)) (7.19.0)\n",
      "Requirement already satisfied: ipython-genutils==0.2.0 in /home/raphael/Documents/Stage-application/Synthese-objet/Python/VirtualEnvironnement/lib/python3.8/site-packages (from -r requirements.txt (line 18)) (0.2.0)\n",
      "Requirement already satisfied: ipywidgets==7.5.1 in /home/raphael/Documents/Stage-application/Synthese-objet/Python/VirtualEnvironnement/lib/python3.8/site-packages (from -r requirements.txt (line 19)) (7.5.1)\n",
      "Requirement already satisfied: jedi==0.17.2 in /home/raphael/Documents/Stage-application/Synthese-objet/Python/VirtualEnvironnement/lib/python3.8/site-packages (from -r requirements.txt (line 20)) (0.17.2)\n",
      "Requirement already satisfied: Jinja2==2.11.2 in /home/raphael/Documents/Stage-application/Synthese-objet/Python/VirtualEnvironnement/lib/python3.8/site-packages (from -r requirements.txt (line 21)) (2.11.2)\n",
      "Requirement already satisfied: json5==0.9.5 in /home/raphael/Documents/Stage-application/Synthese-objet/Python/VirtualEnvironnement/lib/python3.8/site-packages (from -r requirements.txt (line 22)) (0.9.5)\n",
      "Requirement already satisfied: jsonschema==3.2.0 in /home/raphael/Documents/Stage-application/Synthese-objet/Python/VirtualEnvironnement/lib/python3.8/site-packages (from -r requirements.txt (line 23)) (3.2.0)\n",
      "Requirement already satisfied: jupyter==1.0.0 in /home/raphael/Documents/Stage-application/Synthese-objet/Python/VirtualEnvironnement/lib/python3.8/site-packages (from -r requirements.txt (line 24)) (1.0.0)\n",
      "Requirement already satisfied: jupyter-client==6.1.7 in /home/raphael/Documents/Stage-application/Synthese-objet/Python/VirtualEnvironnement/lib/python3.8/site-packages (from -r requirements.txt (line 25)) (6.1.7)\n",
      "Requirement already satisfied: jupyter-console==6.2.0 in /home/raphael/Documents/Stage-application/Synthese-objet/Python/VirtualEnvironnement/lib/python3.8/site-packages (from -r requirements.txt (line 26)) (6.2.0)\n",
      "Requirement already satisfied: jupyter-core==4.7.0 in /home/raphael/Documents/Stage-application/Synthese-objet/Python/VirtualEnvironnement/lib/python3.8/site-packages (from -r requirements.txt (line 27)) (4.7.0)\n",
      "Requirement already satisfied: jupyter-tabnine==1.1.0 in /home/raphael/Documents/Stage-application/Synthese-objet/Python/VirtualEnvironnement/lib/python3.8/site-packages (from -r requirements.txt (line 28)) (1.1.0)\n",
      "Requirement already satisfied: jupyterlab==2.2.9 in /home/raphael/Documents/Stage-application/Synthese-objet/Python/VirtualEnvironnement/lib/python3.8/site-packages (from -r requirements.txt (line 29)) (2.2.9)\n",
      "Requirement already satisfied: jupyterlab-pygments==0.1.2 in /home/raphael/Documents/Stage-application/Synthese-objet/Python/VirtualEnvironnement/lib/python3.8/site-packages (from -r requirements.txt (line 30)) (0.1.2)\n",
      "Requirement already satisfied: jupyterlab-server==1.2.0 in /home/raphael/Documents/Stage-application/Synthese-objet/Python/VirtualEnvironnement/lib/python3.8/site-packages (from -r requirements.txt (line 31)) (1.2.0)\n",
      "Requirement already satisfied: kiwisolver==1.3.1 in /home/raphael/Documents/Stage-application/Synthese-objet/Python/VirtualEnvironnement/lib/python3.8/site-packages (from -r requirements.txt (line 32)) (1.3.1)\n",
      "Requirement already satisfied: MarkupSafe==1.1.1 in /home/raphael/Documents/Stage-application/Synthese-objet/Python/VirtualEnvironnement/lib/python3.8/site-packages (from -r requirements.txt (line 33)) (1.1.1)\n",
      "Requirement already satisfied: matplotlib==3.3.3 in /home/raphael/Documents/Stage-application/Synthese-objet/Python/VirtualEnvironnement/lib/python3.8/site-packages (from -r requirements.txt (line 34)) (3.3.3)\n",
      "Requirement already satisfied: mistune==0.8.4 in /home/raphael/Documents/Stage-application/Synthese-objet/Python/VirtualEnvironnement/lib/python3.8/site-packages (from -r requirements.txt (line 35)) (0.8.4)\n",
      "Requirement already satisfied: nbclient==0.5.1 in /home/raphael/Documents/Stage-application/Synthese-objet/Python/VirtualEnvironnement/lib/python3.8/site-packages (from -r requirements.txt (line 36)) (0.5.1)\n",
      "Requirement already satisfied: nbconvert==6.0.7 in /home/raphael/Documents/Stage-application/Synthese-objet/Python/VirtualEnvironnement/lib/python3.8/site-packages (from -r requirements.txt (line 37)) (6.0.7)\n",
      "Requirement already satisfied: nbformat==5.0.8 in /home/raphael/Documents/Stage-application/Synthese-objet/Python/VirtualEnvironnement/lib/python3.8/site-packages (from -r requirements.txt (line 38)) (5.0.8)\n",
      "Requirement already satisfied: nest-asyncio==1.4.3 in /home/raphael/Documents/Stage-application/Synthese-objet/Python/VirtualEnvironnement/lib/python3.8/site-packages (from -r requirements.txt (line 39)) (1.4.3)\n",
      "Requirement already satisfied: notebook==6.1.5 in /home/raphael/Documents/Stage-application/Synthese-objet/Python/VirtualEnvironnement/lib/python3.8/site-packages (from -r requirements.txt (line 40)) (6.1.5)\n"
     ]
    },
    {
     "name": "stdout",
     "output_type": "stream",
     "text": [
      "Requirement already satisfied: numpy==1.19.4 in /home/raphael/Documents/Stage-application/Synthese-objet/Python/VirtualEnvironnement/lib/python3.8/site-packages (from -r requirements.txt (line 41)) (1.19.4)\n",
      "Requirement already satisfied: odfpy==1.4.1 in /home/raphael/Documents/Stage-application/Synthese-objet/Python/VirtualEnvironnement/lib/python3.8/site-packages (from -r requirements.txt (line 42)) (1.4.1)\n",
      "Requirement already satisfied: packaging==20.7 in /home/raphael/Documents/Stage-application/Synthese-objet/Python/VirtualEnvironnement/lib/python3.8/site-packages (from -r requirements.txt (line 43)) (20.7)\n",
      "Requirement already satisfied: pandas==1.1.4 in /home/raphael/Documents/Stage-application/Synthese-objet/Python/VirtualEnvironnement/lib/python3.8/site-packages (from -r requirements.txt (line 44)) (1.1.4)\n",
      "Requirement already satisfied: pandocfilters==1.4.3 in /home/raphael/Documents/Stage-application/Synthese-objet/Python/VirtualEnvironnement/lib/python3.8/site-packages (from -r requirements.txt (line 45)) (1.4.3)\n",
      "Requirement already satisfied: parso==0.7.1 in /home/raphael/Documents/Stage-application/Synthese-objet/Python/VirtualEnvironnement/lib/python3.8/site-packages (from -r requirements.txt (line 46)) (0.7.1)\n",
      "Requirement already satisfied: pexpect==4.8.0 in /home/raphael/Documents/Stage-application/Synthese-objet/Python/VirtualEnvironnement/lib/python3.8/site-packages (from -r requirements.txt (line 47)) (4.8.0)\n",
      "Requirement already satisfied: pickleshare==0.7.5 in /home/raphael/Documents/Stage-application/Synthese-objet/Python/VirtualEnvironnement/lib/python3.8/site-packages (from -r requirements.txt (line 48)) (0.7.5)\n",
      "Requirement already satisfied: Pillow==8.0.1 in /home/raphael/Documents/Stage-application/Synthese-objet/Python/VirtualEnvironnement/lib/python3.8/site-packages (from -r requirements.txt (line 49)) (8.0.1)\n",
      "Requirement already satisfied: pluggy==0.13.1 in /home/raphael/Documents/Stage-application/Synthese-objet/Python/VirtualEnvironnement/lib/python3.8/site-packages (from -r requirements.txt (line 50)) (0.13.1)\n",
      "Requirement already satisfied: prometheus-client==0.9.0 in /home/raphael/Documents/Stage-application/Synthese-objet/Python/VirtualEnvironnement/lib/python3.8/site-packages (from -r requirements.txt (line 51)) (0.9.0)\n",
      "Requirement already satisfied: prompt-toolkit==3.0.8 in /home/raphael/Documents/Stage-application/Synthese-objet/Python/VirtualEnvironnement/lib/python3.8/site-packages (from -r requirements.txt (line 52)) (3.0.8)\n",
      "Requirement already satisfied: ptyprocess==0.6.0 in /home/raphael/Documents/Stage-application/Synthese-objet/Python/VirtualEnvironnement/lib/python3.8/site-packages (from -r requirements.txt (line 53)) (0.6.0)\n",
      "Requirement already satisfied: pycodestyle==2.6.0 in /home/raphael/Documents/Stage-application/Synthese-objet/Python/VirtualEnvironnement/lib/python3.8/site-packages (from -r requirements.txt (line 54)) (2.6.0)\n",
      "Requirement already satisfied: pycparser==2.20 in /home/raphael/Documents/Stage-application/Synthese-objet/Python/VirtualEnvironnement/lib/python3.8/site-packages (from -r requirements.txt (line 55)) (2.20)\n",
      "Requirement already satisfied: Pygments==2.7.2 in /home/raphael/Documents/Stage-application/Synthese-objet/Python/VirtualEnvironnement/lib/python3.8/site-packages (from -r requirements.txt (line 56)) (2.7.2)\n",
      "Requirement already satisfied: pyparsing==2.4.7 in /home/raphael/Documents/Stage-application/Synthese-objet/Python/VirtualEnvironnement/lib/python3.8/site-packages (from -r requirements.txt (line 57)) (2.4.7)\n",
      "Requirement already satisfied: pyrsistent==0.17.3 in /home/raphael/Documents/Stage-application/Synthese-objet/Python/VirtualEnvironnement/lib/python3.8/site-packages (from -r requirements.txt (line 58)) (0.17.3)\n",
      "Requirement already satisfied: python-dateutil==2.8.1 in /home/raphael/Documents/Stage-application/Synthese-objet/Python/VirtualEnvironnement/lib/python3.8/site-packages (from -r requirements.txt (line 59)) (2.8.1)\n",
      "Requirement already satisfied: python-jsonrpc-server==0.4.0 in /home/raphael/Documents/Stage-application/Synthese-objet/Python/VirtualEnvironnement/lib/python3.8/site-packages (from -r requirements.txt (line 60)) (0.4.0)\n",
      "Requirement already satisfied: python-language-server==0.36.1 in /home/raphael/Documents/Stage-application/Synthese-objet/Python/VirtualEnvironnement/lib/python3.8/site-packages (from -r requirements.txt (line 61)) (0.36.1)\n",
      "Requirement already satisfied: pytz==2020.4 in /home/raphael/Documents/Stage-application/Synthese-objet/Python/VirtualEnvironnement/lib/python3.8/site-packages (from -r requirements.txt (line 62)) (2020.4)\n",
      "Requirement already satisfied: pyzmq==20.0.0 in /home/raphael/Documents/Stage-application/Synthese-objet/Python/VirtualEnvironnement/lib/python3.8/site-packages (from -r requirements.txt (line 63)) (20.0.0)\n",
      "Requirement already satisfied: qtconsole==5.0.1 in /home/raphael/Documents/Stage-application/Synthese-objet/Python/VirtualEnvironnement/lib/python3.8/site-packages (from -r requirements.txt (line 64)) (5.0.1)\n",
      "Requirement already satisfied: QtPy==1.9.0 in /home/raphael/Documents/Stage-application/Synthese-objet/Python/VirtualEnvironnement/lib/python3.8/site-packages (from -r requirements.txt (line 65)) (1.9.0)\n",
      "Requirement already satisfied: requests==2.25.0 in /home/raphael/Documents/Stage-application/Synthese-objet/Python/VirtualEnvironnement/lib/python3.8/site-packages (from -r requirements.txt (line 66)) (2.25.0)\n",
      "Requirement already satisfied: scipy==1.5.4 in /home/raphael/Documents/Stage-application/Synthese-objet/Python/VirtualEnvironnement/lib/python3.8/site-packages (from -r requirements.txt (line 67)) (1.5.4)\n",
      "Requirement already satisfied: Send2Trash==1.5.0 in /home/raphael/Documents/Stage-application/Synthese-objet/Python/VirtualEnvironnement/lib/python3.8/site-packages (from -r requirements.txt (line 68)) (1.5.0)\n",
      "Requirement already satisfied: six==1.15.0 in /home/raphael/Documents/Stage-application/Synthese-objet/Python/VirtualEnvironnement/lib/python3.8/site-packages (from -r requirements.txt (line 69)) (1.15.0)\n",
      "Requirement already satisfied: testpath==0.4.4 in /home/raphael/Documents/Stage-application/Synthese-objet/Python/VirtualEnvironnement/lib/python3.8/site-packages (from -r requirements.txt (line 70)) (0.4.4)\n",
      "Requirement already satisfied: toml==0.10.2 in /home/raphael/Documents/Stage-application/Synthese-objet/Python/VirtualEnvironnement/lib/python3.8/site-packages (from -r requirements.txt (line 71)) (0.10.2)\n",
      "Requirement already satisfied: tornado==6.1 in /home/raphael/Documents/Stage-application/Synthese-objet/Python/VirtualEnvironnement/lib/python3.8/site-packages (from -r requirements.txt (line 72)) (6.1)\n",
      "Requirement already satisfied: traitlets==5.0.5 in /home/raphael/Documents/Stage-application/Synthese-objet/Python/VirtualEnvironnement/lib/python3.8/site-packages (from -r requirements.txt (line 73)) (5.0.5)\n",
      "Requirement already satisfied: ujson==4.0.1 in /home/raphael/Documents/Stage-application/Synthese-objet/Python/VirtualEnvironnement/lib/python3.8/site-packages (from -r requirements.txt (line 74)) (4.0.1)\n",
      "Requirement already satisfied: urllib3==1.26.2 in /home/raphael/Documents/Stage-application/Synthese-objet/Python/VirtualEnvironnement/lib/python3.8/site-packages (from -r requirements.txt (line 75)) (1.26.2)\n",
      "Requirement already satisfied: wcwidth==0.2.5 in /home/raphael/Documents/Stage-application/Synthese-objet/Python/VirtualEnvironnement/lib/python3.8/site-packages (from -r requirements.txt (line 76)) (0.2.5)\n",
      "Requirement already satisfied: webencodings==0.5.1 in /home/raphael/Documents/Stage-application/Synthese-objet/Python/VirtualEnvironnement/lib/python3.8/site-packages (from -r requirements.txt (line 77)) (0.5.1)\n",
      "Requirement already satisfied: widgetsnbextension==3.5.1 in /home/raphael/Documents/Stage-application/Synthese-objet/Python/VirtualEnvironnement/lib/python3.8/site-packages (from -r requirements.txt (line 78)) (3.5.1)\n",
      "Requirement already satisfied: setuptools>=18.5 in /home/raphael/Documents/Stage-application/Synthese-objet/Python/VirtualEnvironnement/lib/python3.8/site-packages (from ipython==7.19.0->-r requirements.txt (line 17)) (44.0.0)\n",
      "Requirement already satisfied: terminado>=0.8.3 in /home/raphael/Documents/Stage-application/Synthese-objet/Python/VirtualEnvironnement/lib/python3.8/site-packages (from notebook==6.1.5->-r requirements.txt (line 40)) (0.9.1)\n"
     ]
    }
   ],
   "source": [
    "#On installe tout les paquets de requirements qui correspondent aux paquets\n",
    "#nécessaires pour faire tourner le code.\n",
    "pip install -r requirements.txt"
   ]
  }
 ],
 "metadata": {
  "kernelspec": {
   "display_name": "Bash",
   "language": "bash",
   "name": "bash"
  },
  "language_info": {
   "codemirror_mode": "shell",
   "file_extension": ".sh",
   "mimetype": "text/x-sh",
   "name": "bash"
  }
 },
 "nbformat": 4,
 "nbformat_minor": 4
}
